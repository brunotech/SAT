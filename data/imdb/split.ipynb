{
 "cells": [
  {
   "cell_type": "code",
   "execution_count": 1,
   "metadata": {},
   "outputs": [],
   "source": [
    "import pandas as pd"
   ]
  },
  {
   "cell_type": "code",
   "execution_count": 2,
   "metadata": {},
   "outputs": [],
   "source": [
    "train_df = pd.read_csv('train_ori.tsv', sep='\\t')\n",
    "dev_df = pd.read_csv('dev_ori.tsv', sep='\\t')\n",
    "test_df = pd.read_csv('test_ori.tsv', sep='\\t')"
   ]
  },
  {
   "cell_type": "code",
   "execution_count": 3,
   "metadata": {},
   "outputs": [
    {
     "data": {
      "text/html": [
       "<div>\n",
       "<style scoped>\n",
       "    .dataframe tbody tr th:only-of-type {\n",
       "        vertical-align: middle;\n",
       "    }\n",
       "\n",
       "    .dataframe tbody tr th {\n",
       "        vertical-align: top;\n",
       "    }\n",
       "\n",
       "    .dataframe thead th {\n",
       "        text-align: right;\n",
       "    }\n",
       "</style>\n",
       "<table border=\"1\" class=\"dataframe\">\n",
       "  <thead>\n",
       "    <tr style=\"text-align: right;\">\n",
       "      <th></th>\n",
       "      <th>sentence</th>\n",
       "      <th>label</th>\n",
       "    </tr>\n",
       "  </thead>\n",
       "  <tbody>\n",
       "    <tr>\n",
       "      <th>0</th>\n",
       "      <td>i wouldn't rent this one even on dollar rental...</td>\n",
       "      <td>0</td>\n",
       "    </tr>\n",
       "    <tr>\n",
       "      <th>1</th>\n",
       "      <td>this movie is terrible but it has some good ef...</td>\n",
       "      <td>0</td>\n",
       "    </tr>\n",
       "    <tr>\n",
       "      <th>2</th>\n",
       "      <td>you'd better choose paul verhoeven's even if y...</td>\n",
       "      <td>0</td>\n",
       "    </tr>\n",
       "    <tr>\n",
       "      <th>3</th>\n",
       "      <td>adrian pasdar is excellent is this film. he ma...</td>\n",
       "      <td>1</td>\n",
       "    </tr>\n",
       "    <tr>\n",
       "      <th>4</th>\n",
       "      <td>ming the merciless does a little bardwork and ...</td>\n",
       "      <td>0</td>\n",
       "    </tr>\n",
       "  </tbody>\n",
       "</table>\n",
       "</div>"
      ],
      "text/plain": [
       "                                            sentence  label\n",
       "0  i wouldn't rent this one even on dollar rental...      0\n",
       "1  this movie is terrible but it has some good ef...      0\n",
       "2  you'd better choose paul verhoeven's even if y...      0\n",
       "3  adrian pasdar is excellent is this film. he ma...      1\n",
       "4  ming the merciless does a little bardwork and ...      0"
      ]
     },
     "execution_count": 3,
     "metadata": {},
     "output_type": "execute_result"
    }
   ],
   "source": [
    "train_df.head()"
   ]
  },
  {
   "cell_type": "code",
   "execution_count": 4,
   "metadata": {},
   "outputs": [
    {
     "data": {
      "text/plain": [
       "1    1346\n",
       "0    1154\n",
       "Name: label, dtype: int64"
      ]
     },
     "execution_count": 4,
     "metadata": {},
     "output_type": "execute_result"
    }
   ],
   "source": [
    "dev_df['label'].value_counts()"
   ]
  },
  {
   "cell_type": "code",
   "execution_count": 16,
   "metadata": {},
   "outputs": [],
   "source": [
    "group = dev_df.groupby(\"label\")\n",
    "n_dev = 1000\n",
    "dev_select = []\n",
    "for i, item in enumerate(list(group)):\n",
    "    dev_samples = item[1].sample(n=n_dev, random_state=n_dev)\n",
    "    dev_select.append(dev_samples)\n",
    "dev_data = pd.concat(dev_select)\n",
    "dev_data = dev_data.rename(columns={\"sentence\": \"content\"})\n",
    "dev_data.to_csv(\"dev.csv\", index=None)"
   ]
  },
  {
   "cell_type": "code",
   "execution_count": 17,
   "metadata": {},
   "outputs": [],
   "source": [
    "test_df.head()\n",
    "test_df = test_df.rename(columns={\"sentence\": \"content\"})\n",
    "test_df.to_csv(\"test.csv\", index=None)"
   ]
  },
  {
   "cell_type": "code",
   "execution_count": 21,
   "metadata": {},
   "outputs": [
    {
     "name": "stdout",
     "output_type": "stream",
     "text": [
      "                                                 content  label\n",
      "19766  need i say--its a stinker! (i gave it a rating...      0\n",
      "20688  why did i go to see this film? honestly, becau...      0\n",
      "2251   oh man, this s-u-c-k-e-d sucked.... i couldn't...      0\n",
      "8868   worst mistake of my life.<br /><br />i picked ...      0\n",
      "2206   hello i am from denmark, and one day i was hav...      0\n",
      "...                                                  ...    ...\n",
      "8956   i am very sorry that this charming and whimsic...      1\n",
      "11949  not that much things happen in this movie but ...      1\n",
      "13245  ''the 40 year old virgin'''made me laugh a lot...      1\n",
      "10318  star pickford and director tourneur -- along w...      1\n",
      "2538   ...intimate and specific. yes, a bit of a cind...      1\n",
      "\n",
      "[10000 rows x 2 columns]\n",
      "                                                 content  label\n",
      "21578  although a film with bruce willis is always wo...      0\n",
      "1911   kris kristofferson, at his drugged-out peak in...      0\n",
      "9462   tapeheads, a scrappy, intermittently funny spo...      0\n",
      "7709   i was rooting for this film as it's a remake o...      0\n",
      "20159  i could barely keep myself from either nodding...      0\n",
      "...                                                  ...    ...\n",
      "17455  dear readers,<br /><br />the final battle betw...      1\n",
      "2983   hardcastle and mccormick is an excellent tv sh...      1\n",
      "2139   kate beckinsale is as good if not better than ...      1\n",
      "12358  i commend pictures that try something differen...      1\n",
      "473    this is an excellent film and one should not b...      1\n",
      "\n",
      "[5000 rows x 2 columns]\n"
     ]
    }
   ],
   "source": [
    "train_group = train_df.groupby(\"label\")\n",
    "n_labeled = 2500\n",
    "n_unlabeled = 5000\n",
    "unlabeled_select = []\n",
    "select = []\n",
    "for i, item in enumerate(list(train_group)):\n",
    "    unlabeled_sampled_data = item[1].sample(n=n_unlabeled, random_state=n_unlabeled)\n",
    "    unlabeled_select.append(unlabeled_sampled_data)\n",
    "    update_item = item[1].drop(unlabeled_sampled_data.index)\n",
    "    select.append(update_item.sample(n=n_labeled, random_state=n_labeled))\n",
    "\n",
    "unlabeled_data = pd.concat(unlabeled_select)\n",
    "unlabeled_data = unlabeled_data.rename(columns={\"sentence\": \"content\"})\n",
    "print(unlabeled_data)\n",
    "unlabeled_data.to_csv(\"unlabeled_data.csv\", index = False)\n",
    "\n",
    "data = pd.concat(select)\n",
    "data = data.rename(columns={\"sentence\": \"content\"})\n",
    "print(data)\n",
    "data.to_csv(\"train_\"+str(n_labeled)+\".csv\", index = False)\n"
   ]
  },
  {
   "cell_type": "code",
   "execution_count": 2,
   "metadata": {},
   "outputs": [
    {
     "name": "stdout",
     "output_type": "stream",
     "text": [
      "                                                content  label  \\\n",
      "0     although a film with bruce willis is always wo...      0   \n",
      "1     kris kristofferson, at his drugged-out peak in...      0   \n",
      "2     tapeheads, a scrappy, intermittently funny spo...      0   \n",
      "3     i was rooting for this film as it's a remake o...      0   \n",
      "4     i could barely keep myself from either nodding...      0   \n",
      "...                                                 ...    ...   \n",
      "3495  in the trivia section for pet sematary, it men...      1   \n",
      "3496  having seen both \"fear of a black hat\" and \"th...      1   \n",
      "3497  i have to totally disagree with the other comm...      1   \n",
      "3498  a common plotline in films consists of the mai...      1   \n",
      "3499  any one who has seen mel gibson's the passion ...      1   \n",
      "\n",
      "                                            synonym_aug  \n",
      "0     although a film with bruce willis is always wo...  \n",
      "1     kris kristofferson, at his narcotized - out pe...  \n",
      "2     tapeheads, a scrappy, intermittently funny spo...  \n",
      "3     i was rooting for this film as it ' s a remake...  \n",
      "4     i could barely keep myself from either nodding...  \n",
      "...                                                 ...  \n",
      "3495  in the trivia section for pet sematary, it men...  \n",
      "3496  induce seen both \" fear of a black hat \" and \"...  \n",
      "3497  i have to totally disagree with the other comm...  \n",
      "3498  a common plotline in films consists of the mai...  \n",
      "3499  any one who give birth seen mel gibson ' s the...  \n",
      "\n",
      "[2000 rows x 3 columns]\n"
     ]
    }
   ],
   "source": [
    "import pandas as pd\n",
    "df = pd.read_csv(\"train_2500.csv\")\n",
    "group = df.groupby(\"label\")\n",
    "select = []\n",
    "for i, item in enumerate(list(group)):\n",
    "    sampled_data = item[1].head(1000)\n",
    "    select.append(sampled_data)\n",
    "\n",
    "data = pd.concat(select)\n",
    "print(data)\n",
    "data.to_csv(\"train_1000.csv\", index = False)"
   ]
  },
  {
   "cell_type": "code",
   "execution_count": 2,
   "metadata": {},
   "outputs": [
    {
     "name": "stdout",
     "output_type": "stream",
     "text": [
      "                                             content  label  \\\n",
      "0  except for acknowledging some nice cinematogra...      0   \n",
      "1  i read that \"there's a girl in my soup\" came o...      0   \n",
      "2  this is about the worst movie i have ever seen...      0   \n",
      "3  sundown:the vampire in retreat is a rubbish.th...      0   \n",
      "4  i watched this movie yesterday and was highly ...      0   \n",
      "\n",
      "                                         synonym_aug  \\\n",
      "0  except for acknowledging some nice cinematogra...   \n",
      "1  i read that \" there ' s a girl in my soup \" ca...   \n",
      "2  this is astir the worst movie i have ever seen...   \n",
      "3  sundown: the vampire in retreat is a rubbish. ...   \n",
      "4  i watch out this movie yesterday and was highl...   \n",
      "\n",
      "                                    back_translation  \n",
      "0  except for a few nice cinematographies, i can ...  \n",
      "1  i read that \"there's a girl in my soup\" appear...  \n",
      "2  this is about the worst movie i've ever seen. ...  \n",
      "3  The only scary thing about this piece of scum ...  \n",
      "4  i watched this movie yesterday and was very di...  \n"
     ]
    },
    {
     "name": "stderr",
     "output_type": "stream",
     "text": [
      "/tmp/ipykernel_463989/4173267008.py:6: SettingWithCopyWarning: \n",
      "A value is trying to be set on a copy of a slice from a DataFrame\n",
      "\n",
      "See the caveats in the documentation: https://pandas.pydata.org/pandas-docs/stable/user_guide/indexing.html#returning-a-view-versus-a-copy\n",
      "  df['back_translation'][idx] = df2['back_translation'][idx]\n"
     ]
    }
   ],
   "source": [
    "import pandas as pd\n",
    "df = pd.read_csv(\"train_10.csv\")\n",
    "df2 = pd.read_csv(\"bt_10.csv\")\n",
    "df['back_translation'] = 0\n",
    "for idx, item in df.iterrows():\n",
    "    df['back_translation'][idx] = df2['back_translation'][idx]\n",
    "print(df.head())\n",
    "df.to_csv(\"train_10.csv\", index=None)"
   ]
  },
  {
   "cell_type": "code",
   "execution_count": 1,
   "metadata": {},
   "outputs": [
    {
     "name": "stdout",
     "output_type": "stream",
     "text": [
      "                                               content  label  \\\n",
      "0    woody allen has made some of the greatest come...      0   \n",
      "1    america needs the best man possible to win \"th...      0   \n",
      "2    if the crew behind \"zombie chronicles\" ever re...      0   \n",
      "3    this romantic comedy isn't too bad. there are ...      0   \n",
      "4    i wanted to see an action comedy with a satiri...      0   \n",
      "..                                                 ...    ...   \n",
      "295  i remember parker posey on \"as the world turns...      1   \n",
      "296  there's nothing really to dislike about \"the o...      1   \n",
      "297  silverlake life, the view from here, is an abs...      1   \n",
      "298  noni hazlehurst, colin friels, alice garner, c...      1   \n",
      "299  the legendary boris karloff ended his illustri...      1   \n",
      "\n",
      "                                           synonym_aug  \\\n",
      "0    woody allen has made some of the greatest come...   \n",
      "1    america needs the best valet de chambre possib...   \n",
      "2    if the crew behind \" zombie chronicles \" ever ...   \n",
      "3    this romantic funniness isn ' t too bad. there...   \n",
      "4    i wanted to determine an action mechanism come...   \n",
      "..                                                 ...   \n",
      "295  i remember parker posey on \" as the world turn...   \n",
      "296  there ' s nothing really to dislike about \" th...   \n",
      "297  silverlake life, the view from here, is an abs...   \n",
      "298  noni hazlehurst, colin friels, alice garner, c...   \n",
      "299  the legendary boris william henry pratt ended ...   \n",
      "\n",
      "                                      back_translation  \\\n",
      "0    woody allen has made some of the greatest come...   \n",
      "1    america needs the best man to win \"the game,\" ...   \n",
      "2    If the crew behind \"Zombie Chronicles\" has eve...   \n",
      "3    this romantic comedy isn't too wicked. funny t...   \n",
      "4    i wanted to see an action comedy with a satiri...   \n",
      "..                                                 ...   \n",
      "295  i remember Parker posey in \"as the world turns...   \n",
      "296  there's really nothing wrong with \"the odd cou...   \n",
      "297  silverlake life, the view from here, is an abs...   \n",
      "298  noni hazlehurst, Colin Friels, alice garner, c...   \n",
      "299  the legendary boris karloff ended his illustri...   \n",
      "\n",
      "                                            insert_aug  \n",
      "0    woody allen has made some of the greatest come...  \n",
      "1    america needs the best man possible to win \" t...  \n",
      "2    if the crew behind \" zombie chronicles \" ever ...  \n",
      "3    this romantic comedy isn't too bad. there are ...  \n",
      "4    i wanted to see an action comedy with a satiri...  \n",
      "..                                                 ...  \n",
      "295  i remember parker posey on \" as the world turn...  \n",
      "296  there's nothing really to dislike about \" the ...  \n",
      "297  the silverlake life, the view from here, these...  \n",
      "298  noni hazlehurst, colin friels, alice garner, c...  \n",
      "299  the legendary boris karloff finally ended his ...  \n",
      "\n",
      "[200 rows x 5 columns]\n"
     ]
    }
   ],
   "source": [
    "import pandas as pd\n",
    "df = pd.read_csv(\"train_200.csv\")\n",
    "group = df.groupby(\"label\")\n",
    "select = []\n",
    "for i, item in enumerate(list(group)):\n",
    "    sampled_data = item[1].head(100)\n",
    "    select.append(sampled_data)\n",
    "\n",
    "data = pd.concat(select)\n",
    "print(data)\n",
    "data.to_csv(\"train_100.csv\", index = False)"
   ]
  }
 ],
 "metadata": {
  "kernelspec": {
   "display_name": "Python 3.8.13 ('text')",
   "language": "python",
   "name": "python3"
  },
  "language_info": {
   "codemirror_mode": {
    "name": "ipython",
    "version": 3
   },
   "file_extension": ".py",
   "mimetype": "text/x-python",
   "name": "python",
   "nbconvert_exporter": "python",
   "pygments_lexer": "ipython3",
   "version": "3.9.12"
  },
  "orig_nbformat": 4,
  "vscode": {
   "interpreter": {
    "hash": "599765f6a2564cc36d1cfd8e7988c054d7369db50b8035ec09a17b5c987defce"
   }
  }
 },
 "nbformat": 4,
 "nbformat_minor": 2
}
