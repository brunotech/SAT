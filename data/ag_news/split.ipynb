{
 "cells": [
  {
   "cell_type": "code",
   "execution_count": 17,
   "metadata": {},
   "outputs": [],
   "source": [
    "import pandas as pd\n",
    "from tqdm import tqdm_notebook as tqdm"
   ]
  },
  {
   "cell_type": "code",
   "execution_count": 18,
   "metadata": {},
   "outputs": [
    {
     "name": "stdout",
     "output_type": "stream",
     "text": [
      "   label                                            content\n",
      "0      3  Reuters - Short-sellers, Wall Street's dwindli...\n",
      "1      3  Reuters - Private investment firm Carlyle Grou...\n",
      "2      3  Reuters - Soaring crude prices plus worries\\ab...\n",
      "3      3  Reuters - Authorities have halted oil export\\f...\n",
      "4      3  AFP - Tearaway world oil prices, toppling reco...\n",
      "(120000, 2)\n"
     ]
    }
   ],
   "source": [
    "path = \"./\"\n",
    "train_df = pd.read_csv(path+\"train_ori.csv\", header=None)\n",
    "train_df.columns = ['label', 'title', 'content']\n",
    "train_df = train_df.drop(['title'], axis=1)\n",
    "print(train_df.head())\n",
    "print(train_df.shape)"
   ]
  },
  {
   "cell_type": "code",
   "execution_count": 19,
   "metadata": {},
   "outputs": [
    {
     "name": "stdout",
     "output_type": "stream",
     "text": [
      "False\n",
      "(118731, 2)\n",
      "   label                                            content\n",
      "0      3  Reuters - Short-sellers, Wall Street's dwindli...\n",
      "1      3  Reuters - Private investment firm Carlyle Grou...\n",
      "2      3  Reuters - Soaring crude prices plus worries\\ab...\n",
      "3      3  Reuters - Authorities have halted oil export\\f...\n",
      "4      3  AFP - Tearaway world oil prices, toppling reco...\n"
     ]
    }
   ],
   "source": [
    "train_df.drop_duplicates(subset=['content'], keep='first', inplace=True)\n",
    "train_df.reset_index(drop=True)\n",
    "print(train_df.duplicated().any())\n",
    "print(train_df.shape)\n",
    "print(train_df.head())"
   ]
  },
  {
   "cell_type": "code",
   "execution_count": 32,
   "metadata": {},
   "outputs": [
    {
     "name": "stdout",
     "output_type": "stream",
     "text": [
      "        label                                            content\n",
      "112488      1  AP - The Red Cross team entered Fallujah for t...\n",
      "98262       1  ANDAHUAYLAS, Peru -- The leader of a paramilit...\n",
      "100242      1  If Marwan Barghouti really wants to be chairma...\n",
      "59663       1  The CIA declines to comment on a report that s...\n",
      "110298      1  Rap star Jay-Z, who has little corporate exper...\n",
      "...       ...                                                ...\n",
      "72733       4  Virginia Tech #39;s recently rebuilt Mac super...\n",
      "27869       4  Amazon.com, the e-commerce giant, plans to tak...\n",
      "75181       4  AP - The international Cassini spacecraft bega...\n",
      "81237       4  Bottom Line: New story, new characters, and a ...\n",
      "71518       4  The elderly are being eyed as a potential mark...\n",
      "\n",
      "[20000 rows x 2 columns]\n",
      "       label                                            content\n",
      "14796      1  Reuters - Saboteurs blew up an internal oil\\pi...\n",
      "18180      1  The UN envoy to Sudan urged the government to ...\n",
      "42788      1  Palestinian gunmen have released an Israeli Ar...\n",
      "15788      1  Washington on Tuesday swept aside objections f...\n",
      "72783      1  DEAF children helped by kidnapped Margaret Has...\n",
      "...      ...                                                ...\n",
      "66295      4  All phishing attacks launched across the Inter...\n",
      "5316       4  NewsFactor - Apple (Nasdaq: AAPL) has issued a...\n",
      "28546      4  AFP - Professional bodies and trade unions vow...\n",
      "34342      4  com September 20, 2004, 11:23 AM PT. This four...\n",
      "68497      4  Microsoft, the world's largest maker of comput...\n",
      "\n",
      "[8000 rows x 2 columns]\n",
      "        label                                            content\n",
      "47687       1  AP - Islamic militants threw explosives at the...\n",
      "66772       1  Myanmar #39;s new prime minister was involved ...\n",
      "52657       1  More than 300 business delegates from Asia and...\n",
      "43975       1  Israel is maintaining its silence over an alle...\n",
      "90257       1  MAKHACHKALA -- A suspect in a 1999 apartment b...\n",
      "...       ...                                                ...\n",
      "100506      4  Kazaa, the internet site which attracted the f...\n",
      "92450       4  MacCentral - As soon as Apple announced its iP...\n",
      "89264       4  In the annals of computer news, reports of Del...\n",
      "89883       4  AFP - The Pentagon, which invented the precurs...\n",
      "112597      4  Cisco Systems #39; acquisition of BCN Systems,...\n",
      "\n",
      "[10000 rows x 2 columns]\n"
     ]
    }
   ],
   "source": [
    "group = train_df.groupby(\"label\")\n",
    "n_unlabeled_per_class = 5000\n",
    "n_dev = 2000\n",
    "n_per_class = 2500\n",
    "unlabeled_select = []\n",
    "dev_select = []\n",
    "select = []\n",
    "for i, item in enumerate(list(group)):\n",
    "    unlabeled_sampled_data = item[1].sample(n=n_unlabeled_per_class, random_state=n_unlabeled_per_class)\n",
    "    unlabeled_select.append(unlabeled_sampled_data)\n",
    "    update_item = item[1].drop(unlabeled_sampled_data.index)\n",
    "    dev_sampled = update_item.sample(n=n_dev, random_state=n_dev)\n",
    "    dev_select.append(dev_sampled)\n",
    "    update_item2 = update_item.drop(dev_sampled.index)\n",
    "    select.append(update_item2.sample(n=n_per_class, random_state=n_per_class))\n",
    "\n",
    "\n",
    "unlabeled_data = pd.concat(unlabeled_select)\n",
    "# unlabeled_data = unlabeled_data.drop(['title'], axis=1)\n",
    "print(unlabeled_data)\n",
    "unlabeled_data.to_csv(path+\"unlabeled_data.csv\", index = False)\n",
    "\n",
    "dev_data = pd.concat(dev_select)\n",
    "# dev_data = dev_data.drop(['title'], axis=1)\n",
    "print(dev_data)\n",
    "dev_data.to_csv(path+\"dev.csv\", index = False)\n",
    "\n",
    "data = pd.concat(select)\n",
    "# data = data.drop(['title'], axis=1)\n",
    "print(data)\n",
    "data.to_csv(path+\"train_\"+str(n_per_class)+\".csv\", index = False)"
   ]
  },
  {
   "cell_type": "code",
   "execution_count": 36,
   "metadata": {},
   "outputs": [],
   "source": [
    "df1 = pd.read_csv(path+\"train_2500.csv\")\n",
    "df2 = pd.read_csv(path+\"dev.csv\")\n",
    "df3 = pd.read_csv(path+\"unlabeled_data.csv\")"
   ]
  },
  {
   "cell_type": "code",
   "execution_count": 37,
   "metadata": {},
   "outputs": [
    {
     "data": {
      "text/plain": [
       "False"
      ]
     },
     "execution_count": 37,
     "metadata": {},
     "output_type": "execute_result"
    }
   ],
   "source": [
    "pf = [df1, df2, df3]\n",
    "result = pd.concat(pf)\n",
    "result.duplicated().any()\n",
    "# result[result.duplicated()]"
   ]
  },
  {
   "cell_type": "code",
   "execution_count": 46,
   "metadata": {},
   "outputs": [
    {
     "name": "stdout",
     "output_type": "stream",
     "text": [
      "      label                                            content  \\\n",
      "0         1  AP - Islamic militants threw explosives at the...   \n",
      "1         1  Myanmar #39;s new prime minister was involved ...   \n",
      "2         1  More than 300 business delegates from Asia and...   \n",
      "3         1  Israel is maintaining its silence over an alle...   \n",
      "4         1  MAKHACHKALA -- A suspect in a 1999 apartment b...   \n",
      "...     ...                                                ...   \n",
      "8495      4  AFP - The mobile phone giant Nokia said that S...   \n",
      "8496      4  Reuters - Freescale Semiconductor Inc. has won...   \n",
      "8497      4  IBM is making a big deal out of its announceme...   \n",
      "8498      4  Computer systems design and computer manufactu...   \n",
      "8499      4  Reuters - Thai scientists began an investigati...   \n",
      "\n",
      "                                            synonym_aug  \\\n",
      "0     AP - Islamic militants threw explosive at the ...   \n",
      "1     Myanmar # 39; s new meridian minister was invo...   \n",
      "2     More than than 300 business delegates from Asi...   \n",
      "3     Israel is maintaining its quiet concluded an a...   \n",
      "4     MAKHACHKALA - - A suspect in a 1999 apartment ...   \n",
      "...                                                 ...   \n",
      "8495  AFP - The mobile telephone set behemoth Nokia ...   \n",
      "8496  Reuters - Freescale Semiconductor device Inc. ...   \n",
      "8497  IBM is make a big stack verboten of its announ...   \n",
      "8498  Computer organization design and computer manu...   \n",
      "8499  Reuters - Siamese scientist start out an inves...   \n",
      "\n",
      "                                       back_translation  \n",
      "0     AP - Islamist militants threw explosives at th...  \n",
      "1     Myanmar's new prime minister was involved in t...  \n",
      "2     More than 300 business delegations from Asia a...  \n",
      "3     Israel remains silent over an alleged spying s...  \n",
      "4     MAKHAHKALA - A suspect in the 1999 bombing of ...  \n",
      "...                                                 ...  \n",
      "8495  Mobile phone giant Nokia has announced that Sa...  \n",
      "8496  Reuters - Freescale Semiconductor Inc. has bee...  \n",
      "8497  IBM benefits from the announcement of three Po...  \n",
      "8498  Jobs in computer systems and computer manufact...  \n",
      "8499  Reuters - Thai scientists on Monday began an i...  \n",
      "\n",
      "[4000 rows x 4 columns]\n"
     ]
    }
   ],
   "source": [
    "df = pd.read_csv(\"train_2500.csv\")\n",
    "group = df.groupby(\"label\")\n",
    "select = []\n",
    "for i, item in enumerate(list(group)):\n",
    "    sampled_data = item[1].head(1000)\n",
    "    select.append(sampled_data)\n",
    "\n",
    "data = pd.concat(select)\n",
    "print(data)\n",
    "data.to_csv(\"train_1000.csv\", index = False)\n",
    "    "
   ]
  },
  {
   "cell_type": "code",
   "execution_count": 47,
   "metadata": {},
   "outputs": [
    {
     "name": "stdout",
     "output_type": "stream",
     "text": [
      "     label                                            content  \\\n",
      "0        1  AFP - A High Court judge in London demanded an...   \n",
      "1        1   FALLUJA, Iraq (Reuters) - U.S. artillery pumm...   \n",
      "2        1  A group of militants raided two police station...   \n",
      "3        1  Baghdad, Nov. 2 (NNN): An American citizen, an...   \n",
      "4        1  AP - President Bush and Sen. John Kerry are of...   \n",
      "..     ...                                                ...   \n",
      "695      4  Solving the nation #39;s spam problem will req...   \n",
      "696      4  Novell tomorrow will begin shipping Linux Desk...   \n",
      "697      4  Is open source becoming the dumping ground for...   \n",
      "698      4  Microsoft yesterday res-ponded to rivals in th...   \n",
      "699      4  A Sun Microsystems engineer chartered with dir...   \n",
      "\n",
      "                                           synonym_aug  \\\n",
      "0    AFP - A High Courtyard judge in John griffith ...   \n",
      "1    FALLUJA, Iraq (Reuters) - Uranium. S. weapon b...   \n",
      "2    A group of militants raided two police station...   \n",
      "3    Capital of iraq, Nov. two (NNN ): An American ...   \n",
      "4    AP - President Bush and Sen. Bathroom Kerry ar...   \n",
      "..                                                 ...   \n",
      "695  Solving the carry nation # 39; s junk e mail p...   \n",
      "696  Novell tomorrow will commence shipping Linux D...   \n",
      "697  Be open origin becoming the dumping land for n...   \n",
      "698  Microsoft yesterday res - ponded to rivals in ...   \n",
      "699  A Sun Microsystems engineer chartered with dir...   \n",
      "\n",
      "                                      back_translation  \n",
      "0    AFP - A judge at London's High Court today dem...  \n",
      "1    FALLUYA, Iraq (Reuters) - U.S. artillery fired...  \n",
      "2    A group of militant fighters attacked two poli...  \n",
      "3    Baghdad, Nov 2 (NNN) - An American citizen, an...  \n",
      "4    P.S.: President Bush and Senator John Kerry of...  \n",
      "..                                                 ...  \n",
      "695  Dealing with the nation's No 39 spam problem w...  \n",
      "696  Novell tomorrow to start shipping Linux Deskto...  \n",
      "697  Is open source going to be a dumping ground fo...  \n",
      "698  Microsoft yesterday took a step ahead of rival...  \n",
      "699  An engineer at Sun Microsystems, who has been ...  \n",
      "\n",
      "[400 rows x 4 columns]\n"
     ]
    }
   ],
   "source": [
    "import pandas as pd\n",
    "df = pd.read_csv(\"train_200.csv\")\n",
    "group = df.groupby(\"label\")\n",
    "select = []\n",
    "for i, item in enumerate(list(group)):\n",
    "    sampled_data = item[1].head(100)\n",
    "    select.append(sampled_data)\n",
    "\n",
    "data = pd.concat(select)\n",
    "print(data)\n",
    "data.to_csv(\"train_100.csv\", index = False)"
   ]
  },
  {
   "cell_type": "code",
   "execution_count": 50,
   "metadata": {},
   "outputs": [
    {
     "name": "stdout",
     "output_type": "stream",
     "text": [
      "      label                                            content  \\\n",
      "0         1  AP - Islamic militants threw explosives at the...   \n",
      "1         1  Myanmar #39;s new prime minister was involved ...   \n",
      "2         1  More than 300 business delegates from Asia and...   \n",
      "3         1  Israel is maintaining its silence over an alle...   \n",
      "4         1  MAKHACHKALA -- A suspect in a 1999 apartment b...   \n",
      "...     ...                                                ...   \n",
      "7515      4  The three companies that certify the nation's ...   \n",
      "7516      4  NEW YORK: Microsoft and watch maker Swatch are...   \n",
      "7517      4  Deutsche Bank AG was the target of a renewed p...   \n",
      "7518      4  Mozilla Firefox has features and extensions th...   \n",
      "7519      4  WITH billions of devices going online, Sun Mic...   \n",
      "\n",
      "                                            synonym_aug  \\\n",
      "0     AP - Islamic militants threw explosive at the ...   \n",
      "1     Myanmar # 39; s new meridian minister was invo...   \n",
      "2     More than than 300 business delegates from Asi...   \n",
      "3     Israel is maintaining its quiet concluded an a...   \n",
      "4     MAKHACHKALA - - A suspect in a 1999 apartment ...   \n",
      "...                                                 ...   \n",
      "7515  The trey society that certify the nation ' s b...   \n",
      "7516  NEW YORK: Microsoft and watch creator Swatch a...   \n",
      "7517  Deutsche Bank silver was the target of a renew...   \n",
      "7518  Mozilla Firefox have features and extensions t...   \n",
      "7519  WITH billions of twist going online, Sunday Mi...   \n",
      "\n",
      "                                       back_translation  \n",
      "0     AP - Islamist militants threw explosives at th...  \n",
      "1     Myanmar's new prime minister was involved in t...  \n",
      "2     More than 300 business delegations from Asia a...  \n",
      "3     Israel remains silent over an alleged spying s...  \n",
      "4     MAKHAHKALA - A suspect in the 1999 bombing of ...  \n",
      "...                                                 ...  \n",
      "7515  The three companies certifying the national vo...  \n",
      "7516  NEW YORK - Microsoft and the watch maker Swatc...  \n",
      "7517  Deutsche Bank AG was the target of another phi...  \n",
      "7518  Mozilla Firefox Guantánamo has more features a...  \n",
      "7519  With billions of devices going online, Sun Mic...  \n",
      "\n",
      "[80 rows x 4 columns]\n"
     ]
    }
   ],
   "source": [
    "import pandas as pd\n",
    "df = pd.read_csv(\"train_2500.csv\")\n",
    "group = df.groupby(\"label\")\n",
    "select = []\n",
    "for i, item in enumerate(list(group)):\n",
    "    sampled_data = item[1].head(20)\n",
    "    select.append(sampled_data)\n",
    "\n",
    "data = pd.concat(select)\n",
    "print(data)\n",
    "data.to_csv(\"train_20.csv\", index = False)"
   ]
  }
 ],
 "metadata": {
  "kernelspec": {
   "display_name": "Python 3.9.12 ('text')",
   "language": "python",
   "name": "python3"
  },
  "language_info": {
   "codemirror_mode": {
    "name": "ipython",
    "version": 3
   },
   "file_extension": ".py",
   "mimetype": "text/x-python",
   "name": "python",
   "nbconvert_exporter": "python",
   "pygments_lexer": "ipython3",
   "version": "3.9.12"
  },
  "orig_nbformat": 4,
  "vscode": {
   "interpreter": {
    "hash": "599765f6a2564cc36d1cfd8e7988c054d7369db50b8035ec09a17b5c987defce"
   }
  }
 },
 "nbformat": 4,
 "nbformat_minor": 2
}
