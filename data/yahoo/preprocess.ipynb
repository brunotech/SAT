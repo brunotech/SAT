{
 "cells": [
  {
   "cell_type": "code",
   "execution_count": 1,
   "metadata": {},
   "outputs": [],
   "source": [
    "import numpy as np\n",
    "import pandas as pd\n",
    "import torch\n",
    "import pickle\n",
    "from tqdm import tqdm_notebook as tqdm\n",
    "import os\n",
    "import re\n",
    "import pickle"
   ]
  },
  {
   "cell_type": "code",
   "execution_count": 2,
   "metadata": {},
   "outputs": [],
   "source": [
    "def clean_sentence(sent):\n",
    "    try:\n",
    "        sent = sent.replace('\\n', ' ').replace('\\\\n', ' ').replace('\\\\', ' ')\n",
    "\n",
    "        sent = re.sub('<[^<]+?>', '', sent)\n",
    "\n",
    "        return sent.lower()\n",
    "    except:\n",
    "        # print(sent)\n",
    "        return ' '"
   ]
  },
  {
   "cell_type": "code",
   "execution_count": 3,
   "metadata": {},
   "outputs": [
    {
     "data": {
      "text/html": [
       "<div>\n",
       "<style scoped>\n",
       "    .dataframe tbody tr th:only-of-type {\n",
       "        vertical-align: middle;\n",
       "    }\n",
       "\n",
       "    .dataframe tbody tr th {\n",
       "        vertical-align: top;\n",
       "    }\n",
       "\n",
       "    .dataframe thead th {\n",
       "        text-align: right;\n",
       "    }\n",
       "</style>\n",
       "<table border=\"1\" class=\"dataframe\">\n",
       "  <thead>\n",
       "    <tr style=\"text-align: right;\">\n",
       "      <th></th>\n",
       "      <th>0</th>\n",
       "      <th>1</th>\n",
       "      <th>2</th>\n",
       "      <th>3</th>\n",
       "    </tr>\n",
       "  </thead>\n",
       "  <tbody>\n",
       "    <tr>\n",
       "      <th>0</th>\n",
       "      <td>5</td>\n",
       "      <td>why doesn't an optical mouse work on a glass t...</td>\n",
       "      <td>or even on some surfaces?</td>\n",
       "      <td>Optical mice use an LED and a camera to rapidl...</td>\n",
       "    </tr>\n",
       "    <tr>\n",
       "      <th>1</th>\n",
       "      <td>6</td>\n",
       "      <td>What is the best off-road motorcycle trail ?</td>\n",
       "      <td>long-distance trail throughout CA</td>\n",
       "      <td>i hear that the mojave road is amazing!&lt;br /&gt;\\...</td>\n",
       "    </tr>\n",
       "    <tr>\n",
       "      <th>2</th>\n",
       "      <td>3</td>\n",
       "      <td>What is Trans Fat? How to reduce that?</td>\n",
       "      <td>I heard that tras fat is bad for the body.  Wh...</td>\n",
       "      <td>Trans fats occur in manufactured foods during ...</td>\n",
       "    </tr>\n",
       "    <tr>\n",
       "      <th>3</th>\n",
       "      <td>7</td>\n",
       "      <td>How many planes Fedex has?</td>\n",
       "      <td>I heard that it is the largest airline in the ...</td>\n",
       "      <td>according to the www.fedex.com web site:\\nAir ...</td>\n",
       "    </tr>\n",
       "    <tr>\n",
       "      <th>4</th>\n",
       "      <td>7</td>\n",
       "      <td>In the san francisco bay area, does it make se...</td>\n",
       "      <td>the prices of rent and the price of buying doe...</td>\n",
       "      <td>renting vs buying depends on your goals. &lt;br /...</td>\n",
       "    </tr>\n",
       "  </tbody>\n",
       "</table>\n",
       "</div>"
      ],
      "text/plain": [
       "   0                                                  1  \\\n",
       "0  5  why doesn't an optical mouse work on a glass t...   \n",
       "1  6       What is the best off-road motorcycle trail ?   \n",
       "2  3             What is Trans Fat? How to reduce that?   \n",
       "3  7                         How many planes Fedex has?   \n",
       "4  7  In the san francisco bay area, does it make se...   \n",
       "\n",
       "                                                   2  \\\n",
       "0                          or even on some surfaces?   \n",
       "1                  long-distance trail throughout CA   \n",
       "2  I heard that tras fat is bad for the body.  Wh...   \n",
       "3  I heard that it is the largest airline in the ...   \n",
       "4  the prices of rent and the price of buying doe...   \n",
       "\n",
       "                                                   3  \n",
       "0  Optical mice use an LED and a camera to rapidl...  \n",
       "1  i hear that the mojave road is amazing!<br />\\...  \n",
       "2  Trans fats occur in manufactured foods during ...  \n",
       "3  according to the www.fedex.com web site:\\nAir ...  \n",
       "4  renting vs buying depends on your goals. <br /...  "
      ]
     },
     "execution_count": 3,
     "metadata": {},
     "output_type": "execute_result"
    }
   ],
   "source": [
    "path = './'\n",
    "train_df = pd.read_csv(path+'train_ori.csv', header=None)\n",
    "test_df = pd.read_csv(path+'test_ori.csv', header=None)\n",
    "train_df.head()"
   ]
  },
  {
   "cell_type": "code",
   "execution_count": 4,
   "metadata": {},
   "outputs": [
    {
     "data": {
      "text/plain": [
       "'What is the best off-road motorcycle trail ?'"
      ]
     },
     "execution_count": 4,
     "metadata": {},
     "output_type": "execute_result"
    }
   ],
   "source": [
    "train_df[1][1]"
   ]
  },
  {
   "cell_type": "code",
   "execution_count": 5,
   "metadata": {},
   "outputs": [],
   "source": [
    "train_data = {'0':[], '1':[], '2':[]}\n",
    "test_data = {'0':[], '1':[], '2':[]}"
   ]
  },
  {
   "cell_type": "code",
   "execution_count": 6,
   "metadata": {},
   "outputs": [
    {
     "name": "stderr",
     "output_type": "stream",
     "text": [
      "/tmp/ipykernel_2345031/3228931439.py:1: TqdmDeprecationWarning: This function will be removed in tqdm==5.0.0\n",
      "Please use `tqdm.notebook.tqdm` instead of `tqdm.tqdm_notebook`\n",
      "  for i in tqdm(range(0, len(train_df[0]))):\n"
     ]
    },
    {
     "data": {
      "application/vnd.jupyter.widget-view+json": {
       "model_id": "267ad732f86d44498725a8aa0c803860",
       "version_major": 2,
       "version_minor": 0
      },
      "text/plain": [
       "  0%|          | 0/1400000 [00:00<?, ?it/s]"
      ]
     },
     "metadata": {},
     "output_type": "display_data"
    },
    {
     "name": "stderr",
     "output_type": "stream",
     "text": [
      "/tmp/ipykernel_2345031/3228931439.py:10: TqdmDeprecationWarning: This function will be removed in tqdm==5.0.0\n",
      "Please use `tqdm.notebook.tqdm` instead of `tqdm.tqdm_notebook`\n",
      "  for i in tqdm(range(0, len(test_df[0]))):\n"
     ]
    },
    {
     "data": {
      "application/vnd.jupyter.widget-view+json": {
       "model_id": "6bffb07d75bc4a6aa014593a2f41d233",
       "version_major": 2,
       "version_minor": 0
      },
      "text/plain": [
       "  0%|          | 0/60000 [00:00<?, ?it/s]"
      ]
     },
     "metadata": {},
     "output_type": "display_data"
    }
   ],
   "source": [
    "for i in tqdm(range(0, len(train_df[0]))):\n",
    "    train_data['0'].append(train_df[0][i])\n",
    "    train_data['1'].append(train_df[0][i])\n",
    "    temp = ''\n",
    "    \n",
    "    temp = clean_sentence(train_df[1][i]) + ' ' + clean_sentence(train_df[2][i]) + ' ' + clean_sentence(train_df[3][i])\n",
    "    \n",
    "    train_data['2'].append(temp)\n",
    "\n",
    "for i in tqdm(range(0, len(test_df[0]))):\n",
    "    test_data['0'].append(test_df[0][i])\n",
    "    test_data['1'].append(test_df[0][i])\n",
    "    temp = ''\n",
    "    \n",
    "    temp = clean_sentence(test_df[1][i]) + ' ' + clean_sentence(test_df[2][i]) + ' ' + clean_sentence(test_df[3][i])\n",
    "    \n",
    "    test_data['2'].append(temp)"
   ]
  },
  {
   "cell_type": "code",
   "execution_count": 7,
   "metadata": {},
   "outputs": [
    {
     "data": {
      "text/html": [
       "<div>\n",
       "<style scoped>\n",
       "    .dataframe tbody tr th:only-of-type {\n",
       "        vertical-align: middle;\n",
       "    }\n",
       "\n",
       "    .dataframe tbody tr th {\n",
       "        vertical-align: top;\n",
       "    }\n",
       "\n",
       "    .dataframe thead th {\n",
       "        text-align: right;\n",
       "    }\n",
       "</style>\n",
       "<table border=\"1\" class=\"dataframe\">\n",
       "  <thead>\n",
       "    <tr style=\"text-align: right;\">\n",
       "      <th></th>\n",
       "      <th>0</th>\n",
       "      <th>1</th>\n",
       "      <th>2</th>\n",
       "    </tr>\n",
       "  </thead>\n",
       "  <tbody>\n",
       "    <tr>\n",
       "      <th>0</th>\n",
       "      <td>5</td>\n",
       "      <td>5</td>\n",
       "      <td>why doesn't an optical mouse work on a glass t...</td>\n",
       "    </tr>\n",
       "    <tr>\n",
       "      <th>1</th>\n",
       "      <td>6</td>\n",
       "      <td>6</td>\n",
       "      <td>what is the best off-road motorcycle trail ? l...</td>\n",
       "    </tr>\n",
       "    <tr>\n",
       "      <th>2</th>\n",
       "      <td>3</td>\n",
       "      <td>3</td>\n",
       "      <td>what is trans fat? how to reduce that? i heard...</td>\n",
       "    </tr>\n",
       "    <tr>\n",
       "      <th>3</th>\n",
       "      <td>7</td>\n",
       "      <td>7</td>\n",
       "      <td>how many planes fedex has? i heard that it is ...</td>\n",
       "    </tr>\n",
       "    <tr>\n",
       "      <th>4</th>\n",
       "      <td>7</td>\n",
       "      <td>7</td>\n",
       "      <td>in the san francisco bay area, does it make se...</td>\n",
       "    </tr>\n",
       "    <tr>\n",
       "      <th>5</th>\n",
       "      <td>5</td>\n",
       "      <td>5</td>\n",
       "      <td>what's the best way to clean a keyboard? i hav...</td>\n",
       "    </tr>\n",
       "    <tr>\n",
       "      <th>6</th>\n",
       "      <td>2</td>\n",
       "      <td>2</td>\n",
       "      <td>why do people blush when they are embarrassed?...</td>\n",
       "    </tr>\n",
       "    <tr>\n",
       "      <th>7</th>\n",
       "      <td>8</td>\n",
       "      <td>8</td>\n",
       "      <td>is lin qingxia (aka brigitte lin) \"the most be...</td>\n",
       "    </tr>\n",
       "    <tr>\n",
       "      <th>8</th>\n",
       "      <td>5</td>\n",
       "      <td>5</td>\n",
       "      <td>what is the origin of \"foobar\"? i want to know...</td>\n",
       "    </tr>\n",
       "    <tr>\n",
       "      <th>9</th>\n",
       "      <td>2</td>\n",
       "      <td>2</td>\n",
       "      <td>how the human species evolved? how the human s...</td>\n",
       "    </tr>\n",
       "  </tbody>\n",
       "</table>\n",
       "</div>"
      ],
      "text/plain": [
       "   0  1                                                  2\n",
       "0  5  5  why doesn't an optical mouse work on a glass t...\n",
       "1  6  6  what is the best off-road motorcycle trail ? l...\n",
       "2  3  3  what is trans fat? how to reduce that? i heard...\n",
       "3  7  7  how many planes fedex has? i heard that it is ...\n",
       "4  7  7  in the san francisco bay area, does it make se...\n",
       "5  5  5  what's the best way to clean a keyboard? i hav...\n",
       "6  2  2  why do people blush when they are embarrassed?...\n",
       "7  8  8  is lin qingxia (aka brigitte lin) \"the most be...\n",
       "8  5  5  what is the origin of \"foobar\"? i want to know...\n",
       "9  2  2  how the human species evolved? how the human s..."
      ]
     },
     "execution_count": 7,
     "metadata": {},
     "output_type": "execute_result"
    }
   ],
   "source": [
    "train_df_ = pd.DataFrame.from_dict(train_data)\n",
    "test_df_ = pd.DataFrame.from_dict(test_data)\n",
    "train_df_[:10]"
   ]
  },
  {
   "cell_type": "code",
   "execution_count": 21,
   "metadata": {},
   "outputs": [
    {
     "data": {
      "text/html": [
       "<div>\n",
       "<style scoped>\n",
       "    .dataframe tbody tr th:only-of-type {\n",
       "        vertical-align: middle;\n",
       "    }\n",
       "\n",
       "    .dataframe tbody tr th {\n",
       "        vertical-align: top;\n",
       "    }\n",
       "\n",
       "    .dataframe thead th {\n",
       "        text-align: right;\n",
       "    }\n",
       "</style>\n",
       "<table border=\"1\" class=\"dataframe\">\n",
       "  <thead>\n",
       "    <tr style=\"text-align: right;\">\n",
       "      <th></th>\n",
       "      <th>labels</th>\n",
       "      <th>text</th>\n",
       "    </tr>\n",
       "  </thead>\n",
       "  <tbody>\n",
       "    <tr>\n",
       "      <th>0</th>\n",
       "      <td>9</td>\n",
       "      <td>what makes friendship click? how does the spar...</td>\n",
       "    </tr>\n",
       "    <tr>\n",
       "      <th>1</th>\n",
       "      <td>2</td>\n",
       "      <td>why does zebras have stripes? what is the purp...</td>\n",
       "    </tr>\n",
       "    <tr>\n",
       "      <th>2</th>\n",
       "      <td>4</td>\n",
       "      <td>what did the itsy bitsy sipder climb up?   wat...</td>\n",
       "    </tr>\n",
       "    <tr>\n",
       "      <th>3</th>\n",
       "      <td>4</td>\n",
       "      <td>what is the difference between a bachelors and...</td>\n",
       "    </tr>\n",
       "    <tr>\n",
       "      <th>4</th>\n",
       "      <td>3</td>\n",
       "      <td>why do women get pms?   premenstrual syndrome ...</td>\n",
       "    </tr>\n",
       "    <tr>\n",
       "      <th>5</th>\n",
       "      <td>3</td>\n",
       "      <td>if your co-worker is guilty of unsanitary hygi...</td>\n",
       "    </tr>\n",
       "    <tr>\n",
       "      <th>6</th>\n",
       "      <td>5</td>\n",
       "      <td>what is the best podcast to subscribe to?   th...</td>\n",
       "    </tr>\n",
       "    <tr>\n",
       "      <th>7</th>\n",
       "      <td>3</td>\n",
       "      <td>what are the risks of alternative medicine?   ...</td>\n",
       "    </tr>\n",
       "    <tr>\n",
       "      <th>8</th>\n",
       "      <td>4</td>\n",
       "      <td>what sea creature sleeps with one eye open?   ...</td>\n",
       "    </tr>\n",
       "    <tr>\n",
       "      <th>9</th>\n",
       "      <td>8</td>\n",
       "      <td>what was the first disney animated character t...</td>\n",
       "    </tr>\n",
       "  </tbody>\n",
       "</table>\n",
       "</div>"
      ],
      "text/plain": [
       "   labels                                               text\n",
       "0       9  what makes friendship click? how does the spar...\n",
       "1       2  why does zebras have stripes? what is the purp...\n",
       "2       4  what did the itsy bitsy sipder climb up?   wat...\n",
       "3       4  what is the difference between a bachelors and...\n",
       "4       3  why do women get pms?   premenstrual syndrome ...\n",
       "5       3  if your co-worker is guilty of unsanitary hygi...\n",
       "6       5  what is the best podcast to subscribe to?   th...\n",
       "7       3  what are the risks of alternative medicine?   ...\n",
       "8       4  what sea creature sleeps with one eye open?   ...\n",
       "9       8  what was the first disney animated character t..."
      ]
     },
     "execution_count": 21,
     "metadata": {},
     "output_type": "execute_result"
    }
   ],
   "source": [
    "test_df_.columns = ['labels', 'labels0', 'text']\n",
    "test_df_ = test_df_.drop(['labels0'], axis=1)\n",
    "test_df_[0:10]"
   ]
  },
  {
   "cell_type": "code",
   "execution_count": 22,
   "metadata": {},
   "outputs": [
    {
     "data": {
      "text/html": [
       "<div>\n",
       "<style scoped>\n",
       "    .dataframe tbody tr th:only-of-type {\n",
       "        vertical-align: middle;\n",
       "    }\n",
       "\n",
       "    .dataframe tbody tr th {\n",
       "        vertical-align: top;\n",
       "    }\n",
       "\n",
       "    .dataframe thead th {\n",
       "        text-align: right;\n",
       "    }\n",
       "</style>\n",
       "<table border=\"1\" class=\"dataframe\">\n",
       "  <thead>\n",
       "    <tr style=\"text-align: right;\">\n",
       "      <th></th>\n",
       "      <th>labels</th>\n",
       "      <th>text</th>\n",
       "    </tr>\n",
       "  </thead>\n",
       "  <tbody>\n",
       "    <tr>\n",
       "      <th>0</th>\n",
       "      <td>5</td>\n",
       "      <td>why doesn't an optical mouse work on a glass t...</td>\n",
       "    </tr>\n",
       "    <tr>\n",
       "      <th>1</th>\n",
       "      <td>6</td>\n",
       "      <td>what is the best off-road motorcycle trail ? l...</td>\n",
       "    </tr>\n",
       "    <tr>\n",
       "      <th>2</th>\n",
       "      <td>3</td>\n",
       "      <td>what is trans fat? how to reduce that? i heard...</td>\n",
       "    </tr>\n",
       "    <tr>\n",
       "      <th>3</th>\n",
       "      <td>7</td>\n",
       "      <td>how many planes fedex has? i heard that it is ...</td>\n",
       "    </tr>\n",
       "    <tr>\n",
       "      <th>4</th>\n",
       "      <td>7</td>\n",
       "      <td>in the san francisco bay area, does it make se...</td>\n",
       "    </tr>\n",
       "    <tr>\n",
       "      <th>5</th>\n",
       "      <td>5</td>\n",
       "      <td>what's the best way to clean a keyboard? i hav...</td>\n",
       "    </tr>\n",
       "    <tr>\n",
       "      <th>6</th>\n",
       "      <td>2</td>\n",
       "      <td>why do people blush when they are embarrassed?...</td>\n",
       "    </tr>\n",
       "    <tr>\n",
       "      <th>7</th>\n",
       "      <td>8</td>\n",
       "      <td>is lin qingxia (aka brigitte lin) \"the most be...</td>\n",
       "    </tr>\n",
       "    <tr>\n",
       "      <th>8</th>\n",
       "      <td>5</td>\n",
       "      <td>what is the origin of \"foobar\"? i want to know...</td>\n",
       "    </tr>\n",
       "    <tr>\n",
       "      <th>9</th>\n",
       "      <td>2</td>\n",
       "      <td>how the human species evolved? how the human s...</td>\n",
       "    </tr>\n",
       "  </tbody>\n",
       "</table>\n",
       "</div>"
      ],
      "text/plain": [
       "   labels                                               text\n",
       "0       5  why doesn't an optical mouse work on a glass t...\n",
       "1       6  what is the best off-road motorcycle trail ? l...\n",
       "2       3  what is trans fat? how to reduce that? i heard...\n",
       "3       7  how many planes fedex has? i heard that it is ...\n",
       "4       7  in the san francisco bay area, does it make se...\n",
       "5       5  what's the best way to clean a keyboard? i hav...\n",
       "6       2  why do people blush when they are embarrassed?...\n",
       "7       8  is lin qingxia (aka brigitte lin) \"the most be...\n",
       "8       5  what is the origin of \"foobar\"? i want to know...\n",
       "9       2  how the human species evolved? how the human s..."
      ]
     },
     "execution_count": 22,
     "metadata": {},
     "output_type": "execute_result"
    }
   ],
   "source": [
    "train_df_.columns = ['labels', 'labels0', 'text']\n",
    "train_df_ = train_df_.drop(['labels0'], axis=1)\n",
    "train_df_[0:10]"
   ]
  },
  {
   "cell_type": "code",
   "execution_count": 14,
   "metadata": {},
   "outputs": [],
   "source": [
    "train_df_.to_csv('./train_clean.csv',header = None, index = False)\n",
    "test_df_.to_csv('./test_clean.csv', header = None, index = False)"
   ]
  }
 ],
 "metadata": {
  "interpreter": {
   "hash": "5cc3b17d4ab15d972c8fbe5d5c5a22fdaee82245f4e3ec6af01de06fee73e2a6"
  },
  "kernelspec": {
   "display_name": "Python 3.9.12 ('semi')",
   "language": "python",
   "name": "python3"
  },
  "language_info": {
   "codemirror_mode": {
    "name": "ipython",
    "version": 3
   },
   "file_extension": ".py",
   "mimetype": "text/x-python",
   "name": "python",
   "nbconvert_exporter": "python",
   "pygments_lexer": "ipython3",
   "version": "3.9.12"
  },
  "orig_nbformat": 4
 },
 "nbformat": 4,
 "nbformat_minor": 2
}
