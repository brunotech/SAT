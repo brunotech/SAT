{
 "cells": [
  {
   "cell_type": "code",
   "execution_count": 1,
   "metadata": {},
   "outputs": [],
   "source": [
    "import pandas as pd"
   ]
  },
  {
   "cell_type": "code",
   "execution_count": 27,
   "metadata": {},
   "outputs": [
    {
     "data": {
      "text/html": [
       "<div>\n",
       "<style scoped>\n",
       "    .dataframe tbody tr th:only-of-type {\n",
       "        vertical-align: middle;\n",
       "    }\n",
       "\n",
       "    .dataframe tbody tr th {\n",
       "        vertical-align: top;\n",
       "    }\n",
       "\n",
       "    .dataframe thead th {\n",
       "        text-align: right;\n",
       "    }\n",
       "</style>\n",
       "<table border=\"1\" class=\"dataframe\">\n",
       "  <thead>\n",
       "    <tr style=\"text-align: right;\">\n",
       "      <th></th>\n",
       "      <th>label</th>\n",
       "      <th>content</th>\n",
       "      <th>synonym_aug</th>\n",
       "    </tr>\n",
       "  </thead>\n",
       "  <tbody>\n",
       "    <tr>\n",
       "      <th>0</th>\n",
       "      <td>1</td>\n",
       "      <td>where are ya'll and what time is it? anyone in...</td>\n",
       "      <td>where are ya ' ll and what time is information...</td>\n",
       "    </tr>\n",
       "    <tr>\n",
       "      <th>1</th>\n",
       "      <td>1</td>\n",
       "      <td>killing of innocents permitted in the bible? e...</td>\n",
       "      <td>killing of innocents permitted in the bible? e...</td>\n",
       "    </tr>\n",
       "    <tr>\n",
       "      <th>2</th>\n",
       "      <td>1</td>\n",
       "      <td>i am 60 pounds overweight with hair covering a...</td>\n",
       "      <td>i am 60 pounds overweight with fuzz covering a...</td>\n",
       "    </tr>\n",
       "    <tr>\n",
       "      <th>3</th>\n",
       "      <td>1</td>\n",
       "      <td>does christian rock have a place in christiani...</td>\n",
       "      <td>does christian rock have a place in christian ...</td>\n",
       "    </tr>\n",
       "    <tr>\n",
       "      <th>4</th>\n",
       "      <td>1</td>\n",
       "      <td>why do people that worship satan say they will...</td>\n",
       "      <td>why do people that revere satan say they will ...</td>\n",
       "    </tr>\n",
       "  </tbody>\n",
       "</table>\n",
       "</div>"
      ],
      "text/plain": [
       "   label                                            content  \\\n",
       "0      1  where are ya'll and what time is it? anyone in...   \n",
       "1      1  killing of innocents permitted in the bible? e...   \n",
       "2      1  i am 60 pounds overweight with hair covering a...   \n",
       "3      1  does christian rock have a place in christiani...   \n",
       "4      1  why do people that worship satan say they will...   \n",
       "\n",
       "                                         synonym_aug  \n",
       "0  where are ya ' ll and what time is information...  \n",
       "1  killing of innocents permitted in the bible? e...  \n",
       "2  i am 60 pounds overweight with fuzz covering a...  \n",
       "3  does christian rock have a place in christian ...  \n",
       "4  why do people that revere satan say they will ...  "
      ]
     },
     "execution_count": 27,
     "metadata": {},
     "output_type": "execute_result"
    }
   ],
   "source": [
    "path = \"./\"\n",
    "file = \"train_2500.csv\"\n",
    "df = pd.read_csv(path+file)\n",
    "df.head()"
   ]
  },
  {
   "cell_type": "code",
   "execution_count": 21,
   "metadata": {},
   "outputs": [
    {
     "data": {
      "text/plain": [
       "' NA'"
      ]
     },
     "execution_count": 21,
     "metadata": {},
     "output_type": "execute_result"
    }
   ],
   "source": [
    "df['synonym_aug'][49595]"
   ]
  },
  {
   "cell_type": "code",
   "execution_count": 28,
   "metadata": {},
   "outputs": [
    {
     "name": "stdout",
     "output_type": "stream",
     "text": [
      "0 25000\n"
     ]
    }
   ],
   "source": [
    "count = 0\n",
    "total = 0\n",
    "for idx, row in df.iterrows():\n",
    "    tokens = row['content'].split(\" \")\n",
    "    if len(tokens) > 1024:\n",
    "        # df['content'][idx] = \" \".join(tokens[:1024])\n",
    "        count += 1\n",
    "    total +=1\n",
    "print(count, total)\n",
    "# df.to_csv(file, index=None)"
   ]
  },
  {
   "cell_type": "code",
   "execution_count": 29,
   "metadata": {},
   "outputs": [
    {
     "name": "stdout",
     "output_type": "stream",
     "text": [
      "0 25000\n"
     ]
    }
   ],
   "source": [
    "count = 0\n",
    "total = 0\n",
    "for idx, row in df.iterrows():\n",
    "    if len(tokens) > 1024:\n",
    "        count += 1\n",
    "    total +=1\n",
    "print(count, total)"
   ]
  }
 ],
 "metadata": {
  "kernelspec": {
   "display_name": "Python 3.8.13 ('text')",
   "language": "python",
   "name": "python3"
  },
  "language_info": {
   "codemirror_mode": {
    "name": "ipython",
    "version": 3
   },
   "file_extension": ".py",
   "mimetype": "text/x-python",
   "name": "python",
   "nbconvert_exporter": "python",
   "pygments_lexer": "ipython3",
   "version": "3.9.12"
  },
  "orig_nbformat": 4,
  "vscode": {
   "interpreter": {
    "hash": "599765f6a2564cc36d1cfd8e7988c054d7369db50b8035ec09a17b5c987defce"
   }
  }
 },
 "nbformat": 4,
 "nbformat_minor": 2
}
