{
 "cells": [
  {
   "cell_type": "code",
   "execution_count": 1,
   "metadata": {},
   "outputs": [],
   "source": [
    "import pandas as pd"
   ]
  },
  {
   "cell_type": "code",
   "execution_count": 2,
   "metadata": {},
   "outputs": [
    {
     "data": {
      "text/html": [
       "<div>\n",
       "<style scoped>\n",
       "    .dataframe tbody tr th:only-of-type {\n",
       "        vertical-align: middle;\n",
       "    }\n",
       "\n",
       "    .dataframe tbody tr th {\n",
       "        vertical-align: top;\n",
       "    }\n",
       "\n",
       "    .dataframe thead th {\n",
       "        text-align: right;\n",
       "    }\n",
       "</style>\n",
       "<table border=\"1\" class=\"dataframe\">\n",
       "  <thead>\n",
       "    <tr style=\"text-align: right;\">\n",
       "      <th></th>\n",
       "      <th>label</th>\n",
       "      <th>content</th>\n",
       "    </tr>\n",
       "  </thead>\n",
       "  <tbody>\n",
       "    <tr>\n",
       "      <th>0</th>\n",
       "      <td>5</td>\n",
       "      <td>why doesn't an optical mouse work on a glass t...</td>\n",
       "    </tr>\n",
       "    <tr>\n",
       "      <th>1</th>\n",
       "      <td>6</td>\n",
       "      <td>what is the best off-road motorcycle trail ? l...</td>\n",
       "    </tr>\n",
       "    <tr>\n",
       "      <th>2</th>\n",
       "      <td>3</td>\n",
       "      <td>what is trans fat? how to reduce that? i heard...</td>\n",
       "    </tr>\n",
       "    <tr>\n",
       "      <th>3</th>\n",
       "      <td>7</td>\n",
       "      <td>how many planes fedex has? i heard that it is ...</td>\n",
       "    </tr>\n",
       "    <tr>\n",
       "      <th>4</th>\n",
       "      <td>7</td>\n",
       "      <td>in the san francisco bay area, does it make se...</td>\n",
       "    </tr>\n",
       "  </tbody>\n",
       "</table>\n",
       "</div>"
      ],
      "text/plain": [
       "   label                                            content\n",
       "0      5  why doesn't an optical mouse work on a glass t...\n",
       "1      6  what is the best off-road motorcycle trail ? l...\n",
       "2      3  what is trans fat? how to reduce that? i heard...\n",
       "3      7  how many planes fedex has? i heard that it is ...\n",
       "4      7  in the san francisco bay area, does it make se..."
      ]
     },
     "execution_count": 2,
     "metadata": {},
     "output_type": "execute_result"
    }
   ],
   "source": [
    "path = \"./\"\n",
    "train_df = pd.read_csv(path+\"train_clean.csv\", header=None)\n",
    "train_df.columns = ['label', 'content']\n",
    "train_df.head()"
   ]
  },
  {
   "cell_type": "code",
   "execution_count": 9,
   "metadata": {},
   "outputs": [
    {
     "name": "stdout",
     "output_type": "stream",
     "text": [
      "         label                                            content\n",
      "578485       1  how expensive is it to live in antigua, west i...\n",
      "271283       1  why is it acceptable for a man to run around t...\n",
      "71610        1  federal law to regylate railroad traffic betwe...\n",
      "702198       1  is there such a thing as sicilian culture? spe...\n",
      "176889       1  how do i start a small association? do i have ...\n",
      "...        ...                                                ...\n",
      "1318491     10  how did george w. bush get into the natl guard...\n",
      "384688      10  what is the italian name of sonia gandhi the c...\n",
      "1286237     10  why can't our military protect our american st...\n",
      "900406      10  did the carlyle group have anything to do with...\n",
      "1177667     10  what makes the mexican people call americans o...\n",
      "\n",
      "[50000 rows x 2 columns]\n",
      "         label                                            content\n",
      "876594       1  how should i go about asking for a french pedi...\n",
      "962982       1  a question for christians? now if i pray to th...\n",
      "408662       1  can someone be persecuted if they don't exist?...\n",
      "390348       1  what's a witch like?do you have a problem with...\n",
      "1010183      1  a question about god and lobster????? since ga...\n",
      "...        ...                                                ...\n",
      "596515      10  should stalin become chief minister after karu...\n",
      "566212      10  do you have to be a member of a native america...\n",
      "688731      10  should the mexican government  be accountable ...\n",
      "727164      10  why pramod mahagan's brother shoot him?   mone...\n",
      "885372      10  as a loyal fan of rush limbaugh how can i reme...\n",
      "\n",
      "[20000 rows x 2 columns]\n",
      "         label                                            content\n",
      "372511       1  ok what is your position on tipping, do you ti...\n",
      "540460       1  do you think summersnite should come to my ser...\n",
      "1138251      1  would you date someone of another religion?  w...\n",
      "444753       1  best way of negotiating someone?   what? do yo...\n",
      "7683         1  if you dream about drowning in pink water, wha...\n",
      "...        ...                                                ...\n",
      "499358      10  did george bush allow exxon mobil of texas to ...\n",
      "1054428     10  is bill handing out kneepads in celebration to...\n",
      "893430      10  a criminal trial includes all of the following...\n",
      "431838      10  what is the job of the legislative branch?   t...\n",
      "644502      10  what are your favorite inmigrants??   women un...\n",
      "\n",
      "[100 rows x 2 columns]\n"
     ]
    }
   ],
   "source": [
    "group = train_df.groupby(\"label\")\n",
    "n_unlabeled_per_class = 5000\n",
    "n_dev = 2000\n",
    "n_per_class = 10\n",
    "unlabeled_select = []\n",
    "dev_select = []\n",
    "select = []\n",
    "for i, item in enumerate(list(group)):\n",
    "    unlabeled_sampled_data = item[1].sample(n=n_unlabeled_per_class, random_state=n_unlabeled_per_class)\n",
    "    unlabeled_select.append(unlabeled_sampled_data)\n",
    "    update_item = item[1].drop(unlabeled_sampled_data.index)\n",
    "    dev_sampled = update_item.sample(n=n_dev, random_state=n_dev)\n",
    "    dev_select.append(dev_sampled)\n",
    "    update_item2 = update_item.drop(dev_sampled.index)\n",
    "    select.append(update_item2.sample(n=n_per_class, random_state=n_per_class))\n",
    "\n",
    "\n",
    "unlabeled_data = pd.concat(unlabeled_select)\n",
    "print(unlabeled_data)\n",
    "unlabeled_data.to_csv(path+\"unlabeled_data.csv\", index = False)\n",
    "dev_data = pd.concat(dev_select)\n",
    "print(dev_data)\n",
    "dev_data.to_csv(path+\"dev.csv\", index = False)\n",
    "data = pd.concat(select)\n",
    "print(data)\n",
    "data.to_csv(path+\"train_\"+str(n_per_class)+\".csv\", index = False)"
   ]
  },
  {
   "cell_type": "code",
   "execution_count": 10,
   "metadata": {},
   "outputs": [],
   "source": [
    "df1 = pd.read_csv(path+\"train_10.csv\")\n",
    "df2 = pd.read_csv(path+\"dev.csv\")\n",
    "df3 = pd.read_csv(path+\"unlabeled_data.csv\")"
   ]
  },
  {
   "cell_type": "code",
   "execution_count": 11,
   "metadata": {},
   "outputs": [
    {
     "data": {
      "text/plain": [
       "False"
      ]
     },
     "execution_count": 11,
     "metadata": {},
     "output_type": "execute_result"
    }
   ],
   "source": [
    "pf = [df1, df2, df3]\n",
    "result = pd.concat(pf)\n",
    "result.duplicated().any()"
   ]
  },
  {
   "cell_type": "code",
   "execution_count": 17,
   "metadata": {},
   "outputs": [],
   "source": [
    "path = \"./\"\n",
    "test_df = pd.read_csv(path+\"test.csv\")\n",
    "test_df.to_csv(\"test.csv\", index=None)"
   ]
  },
  {
   "cell_type": "code",
   "execution_count": 24,
   "metadata": {},
   "outputs": [
    {
     "name": "stdout",
     "output_type": "stream",
     "text": [
      "       label                                            content  \\\n",
      "0          1  where are ya'll and what time is it? anyone in...   \n",
      "1          1  killing of innocents permitted in the bible? e...   \n",
      "2          1  i am 60 pounds overweight with hair covering a...   \n",
      "3          1  does christian rock have a place in christiani...   \n",
      "4          1  why do people that worship satan say they will...   \n",
      "...      ...                                                ...   \n",
      "23495     10  has anyone ever worked in the peace corps in m...   \n",
      "23496     10  what do you do when your in the cps and u want...   \n",
      "23497     10  do you love/hate the state this country is in?...   \n",
      "23498     10  what does \"tc\" mean, in police jargon, i've he...   \n",
      "23499     10  is arnold schwarzenegger running for re-electi...   \n",
      "\n",
      "                                             synonym_aug  \n",
      "0      where are ya ' ll and what time is information...  \n",
      "1      killing of innocents permitted in the bible? e...  \n",
      "2      i am 60 pounds overweight with fuzz covering a...  \n",
      "3      does christian rock have a place in christian ...  \n",
      "4      why do people that revere satan say they will ...  \n",
      "...                                                  ...  \n",
      "23495  has anyone always worked in the peace of mind ...  \n",
      "23496  what do you do when your in the cps and u want...  \n",
      "23497  do you love / hate the state this country is i...  \n",
      "23498  what does \" tc \" mean, in police jargon, unity...  \n",
      "23499  is arnold schwarzenegger running for re - elec...  \n",
      "\n",
      "[10000 rows x 3 columns]\n"
     ]
    }
   ],
   "source": [
    "import pandas as pd\n",
    "df = pd.read_csv(\"train_2500.csv\")\n",
    "group = df.groupby(\"label\")\n",
    "select = []\n",
    "for i, item in enumerate(list(group)):\n",
    "    sampled_data = item[1].head(1000)\n",
    "    select.append(sampled_data)\n",
    "\n",
    "data = pd.concat(select)\n",
    "print(data)\n",
    "data.to_csv(\"train_1000.csv\", index = False)"
   ]
  },
  {
   "cell_type": "code",
   "execution_count": 25,
   "metadata": {},
   "outputs": [
    {
     "name": "stdout",
     "output_type": "stream",
     "text": [
      "       label                                   back_translation\n",
      "0          1  Where are you going to be and at what time is ...\n",
      "1          1  The killing of innocents, which is permitted i...\n",
      "2          1  I am 60 pounds overweight with hair covering a...\n",
      "3          1  does christian rock have a place in christiani...\n",
      "4          1  Why do people who worship satan say that they ...\n",
      "...      ...                                                ...\n",
      "23495     10  Has anyone ever worked in the Peace Corps in M...\n",
      "23496     10  what do you do if your want to live in the cps...\n",
      "23497     10  do you love / hate the state in which this cou...\n",
      "23498     10  which means \"tc,\" in police jargon, i heard it...\n",
      "23499     10  is arnold schwarzenegger up for re-election? y...\n",
      "\n",
      "[10000 rows x 2 columns]\n"
     ]
    }
   ],
   "source": [
    "import pandas as pd\n",
    "df = pd.read_csv(\"bt_2500.csv\")\n",
    "group = df.groupby(\"label\")\n",
    "select = []\n",
    "for i, item in enumerate(list(group)):\n",
    "    sampled_data = item[1].head(1000)\n",
    "    select.append(sampled_data)\n",
    "\n",
    "data = pd.concat(select)\n",
    "print(data)\n",
    "data.to_csv(\"bt_1000.csv\", index = False)"
   ]
  },
  {
   "cell_type": "code",
   "execution_count": 27,
   "metadata": {},
   "outputs": [],
   "source": [
    "import pandas as pd\n",
    "df = pd.read_csv(\"train_10.csv\")\n",
    "new_df = df.drop(['back_translation'], axis=1)\n",
    "new_df.to_csv(\"train_10.csv\", index=None)"
   ]
  },
  {
   "cell_type": "code",
   "execution_count": 28,
   "metadata": {},
   "outputs": [
    {
     "name": "stdout",
     "output_type": "stream",
     "text": [
      "      label                                            content  \\\n",
      "0         1    i need a post card love?   what does that mean?   \n",
      "1         1  what type of food did people who lived in the ...   \n",
      "2         1  does anyone know how to say \"this is what i wa...   \n",
      "3         1  are you looking forward to and why? is it the ...   \n",
      "4         1  what is the best way to spend the rest of your...   \n",
      "...     ...                                                ...   \n",
      "1895     10  what should i do????? i was at my local circle...   \n",
      "1896     10  should the daytona 500 be a national holiday? ...   \n",
      "1897     10  why can't i log on to http://travel.state.gov/...   \n",
      "1898     10  what would be the best approach to withdraw us...   \n",
      "1899     10  who thinks there will, or should, be a biparti...   \n",
      "\n",
      "                                            synonym_aug  \n",
      "0     i need a situation poster love? what make out ...  \n",
      "1     what type of food perform masses who lived in ...  \n",
      "2     coif anyone know how to say \" this be what i r...  \n",
      "3     are you look frontward to and wherefore? is it...  \n",
      "4     what is the best way to spend the rest of your...  \n",
      "...                                                 ...  \n",
      "1895  what should i do? ?? ?? i was at my local circ...  \n",
      "1896  should the daytona five hundred be a internal ...  \n",
      "1897  why can ' t one log on to http: / / travel. st...  \n",
      "1898  what would be the good approach to back away u...  \n",
      "1899  who thinks there will, or should, be a biparti...  \n",
      "\n",
      "[1000 rows x 3 columns]\n"
     ]
    }
   ],
   "source": [
    "import pandas as pd\n",
    "df = pd.read_csv(\"train_200.csv\")\n",
    "group = df.groupby(\"label\")\n",
    "select = []\n",
    "for i, item in enumerate(list(group)):\n",
    "    sampled_data = item[1].head(100)\n",
    "    select.append(sampled_data)\n",
    "\n",
    "data = pd.concat(select)\n",
    "print(data)\n",
    "data.to_csv(\"train_100.csv\", index = False)"
   ]
  },
  {
   "cell_type": "code",
   "execution_count": 29,
   "metadata": {},
   "outputs": [
    {
     "name": "stdout",
     "output_type": "stream",
     "text": [
      "      label                                   back_translation\n",
      "0         1       i need a postcard love? what does that mean?\n",
      "1         1  What kind of food did the people who lived in ...\n",
      "2         1  Does anyone know how to say \"this is what I wa...\n",
      "3         1  are you looking forward to it and why? is it t...\n",
      "4         1  how do you spend the rest of your life? every ...\n",
      "...     ...                                                ...\n",
      "1895     10  what should I do??? i was in my local circle k...\n",
      "1896     10  should the daytona 500 be a national holiday? ...\n",
      "1897     10  Why can't I log on to http: / / travel.state.g...\n",
      "1898     10  What would be the best approach to pulling our...\n",
      "1899     10  who thinks there will or should be a bipartisa...\n",
      "\n",
      "[1000 rows x 2 columns]\n"
     ]
    }
   ],
   "source": [
    "import pandas as pd\n",
    "df = pd.read_csv(\"bt_200.csv\")\n",
    "group = df.groupby(\"label\")\n",
    "select = []\n",
    "for i, item in enumerate(list(group)):\n",
    "    sampled_data = item[1].head(100)\n",
    "    select.append(sampled_data)\n",
    "\n",
    "data = pd.concat(select)\n",
    "print(data)\n",
    "data.to_csv(\"bt_100.csv\", index = False)"
   ]
  },
  {
   "cell_type": "code",
   "execution_count": 35,
   "metadata": {},
   "outputs": [],
   "source": [
    "import pandas as pd\n",
    "df = pd.read_csv(\"ri_10.csv\")\n",
    "df = df.drop([\"content\", \"synonym_aug\"], axis=1)\n",
    "df.to_csv(\"ri_10.csv\", index=None)"
   ]
  },
  {
   "cell_type": "code",
   "execution_count": 38,
   "metadata": {},
   "outputs": [
    {
     "name": "stdout",
     "output_type": "stream",
     "text": [
      "     label                                   back_translation\n",
      "0        1       i need a postcard love? what does that mean?\n",
      "1        1  What kind of food did the people who lived in ...\n",
      "2        1  Does anyone know how to say \"this is what I wa...\n",
      "3        1  are you looking forward to it and why? is it t...\n",
      "4        1  how do you spend the rest of your life? every ...\n",
      "..     ...                                                ...\n",
      "915     10  why do the left hate george w bush and dick ch...\n",
      "916     10  How do you wage a global war on terrorism when...\n",
      "917     10  Help.......!!!!!? 1. How much do jurors get pa...\n",
      "918     10  Have your parents ever had sex? No, but I've s...\n",
      "919     10  i need to find website for arkansas federal la...\n",
      "\n",
      "[200 rows x 2 columns]\n"
     ]
    }
   ],
   "source": [
    "import pandas as pd\n",
    "df = pd.read_csv(\"bt_100.csv\")\n",
    "group = df.groupby(\"label\")\n",
    "select = []\n",
    "for i, item in enumerate(list(group)):\n",
    "    sampled_data = item[1].head(20)\n",
    "    select.append(sampled_data)\n",
    "\n",
    "data = pd.concat(select)\n",
    "print(data)\n",
    "data.to_csv(\"bt_20.csv\", index = False)"
   ]
  }
 ],
 "metadata": {
  "kernelspec": {
   "display_name": "Python 3.8.13 ('text')",
   "language": "python",
   "name": "python3"
  },
  "language_info": {
   "codemirror_mode": {
    "name": "ipython",
    "version": 3
   },
   "file_extension": ".py",
   "mimetype": "text/x-python",
   "name": "python",
   "nbconvert_exporter": "python",
   "pygments_lexer": "ipython3",
   "version": "3.9.12"
  },
  "orig_nbformat": 4,
  "vscode": {
   "interpreter": {
    "hash": "599765f6a2564cc36d1cfd8e7988c054d7369db50b8035ec09a17b5c987defce"
   }
  }
 },
 "nbformat": 4,
 "nbformat_minor": 2
}
